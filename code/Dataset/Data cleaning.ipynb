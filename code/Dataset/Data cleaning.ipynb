{
 "cells": [
  {
   "cell_type": "code",
   "execution_count": 1,
   "id": "d88a5053",
   "metadata": {},
   "outputs": [],
   "source": [
    "import pandas as pd"
   ]
  },
  {
   "cell_type": "markdown",
   "id": "0675f1cb",
   "metadata": {},
   "source": [
    "AUO data"
   ]
  },
  {
   "cell_type": "code",
   "execution_count": 2,
   "id": "7b8d9747",
   "metadata": {},
   "outputs": [],
   "source": [
    "name_df = \"Cham\"\n",
    "path_df = rf\"C:\\Users\\TerryYang\\Downloads\\{name_df} m2-5.csv\"\n",
    "path_output = rf\"C:\\Users\\TerryYang\\Desktop\\{name_df}.csv\""
   ]
  },
  {
   "cell_type": "code",
   "execution_count": null,
   "id": "3cae3b60",
   "metadata": {
    "scrolled": false
   },
   "outputs": [
    {
     "name": "stderr",
     "output_type": "stream",
     "text": [
      "C:\\Users\\TerryYang\\anaconda3\\envs\\TENSORFLOW\\lib\\site-packages\\IPython\\core\\interactiveshell.py:3165: DtypeWarning: Columns (1,2,3,4,5,6,7,8,9,10,11,12,13,14,15,16,17,18,19,20,21,22,23,24,25,26,27,28,29,30,31,32,33,34,35,36,37,38,39,40,41,42,43,44,45,46,47,48,49,50,51,52,53,54,55,56,57,58,59,60,61,62,63,64,65,66,67,68,69,70,71,72,73,74,75,76,77,78,79,80,81,82,83,84,85,86,87,88,89,90,91,92,93,94,95,96,97,98,99,100,101,102,103,104,105,106,107,108,109,110,111,112,113,114,115,116,117,118,119,120,121,122,123,124,125,126,127,128,129,130,131,132,133,134,135,136,137,138,139,140,141,142,143,144,145,146,147,148,149,150,151,152,153,154,155,156,157,158,159,160,161,162,163,164,165,166,167,168,169,170,171,172,173,174,175,176,177,178,179,180,181,182,183,184,185,186,187,188,189,190,191,192,193,194,195,196,197,198,199,200,201,202,203,204,205,206,207,208,209,210,211,212,213,214,215,216,217,218,219,220,221,222,223,224,225,226,227,228,229,230,231,232,233,234,235,236,237,238,239,240,241,242,243,244,245,246,247,248,249,250,251,252,253,254,255,256,257,258,259,260,261,262,263,264,265,266,267,268,269,270,271,272,273,274,275,276,277,278,279,280,281,282,283,284,285,286,287,288,289,290,291,292) have mixed types.Specify dtype option on import or set low_memory=False.\n",
      "  has_raised = await self.run_ast_nodes(code_ast.body, cell_name,\n"
     ]
    }
   ],
   "source": [
    "df_auo = pd.read_csv(path_df, index_col=0,).iloc[2:,:]\n",
    "for c in df_auo:\n",
    "    df_auo[c] = df_auo[c].astype(float)\n",
    "    df_auo[c] = df_auo[c].astype(int)\n",
    "df_auo.columns = [c.replace(\"-\", \",\") for c in list(df_auo.columns)]\n",
    "df_auo.columns = [c.replace(\"+\", \"|\") for c in list(df_auo.columns)]\n",
    "df_auo.index = [i for i in range(0, len(df_auo))]\n",
    "df_auo.head()"
   ]
  },
  {
   "cell_type": "code",
   "execution_count": null,
   "id": "3a9c3e09",
   "metadata": {},
   "outputs": [],
   "source": [
    "df_auo.to"
   ]
  }
 ],
 "metadata": {
  "kernelspec": {
   "display_name": "Python 3",
   "language": "python",
   "name": "python3"
  },
  "language_info": {
   "codemirror_mode": {
    "name": "ipython",
    "version": 3
   },
   "file_extension": ".py",
   "mimetype": "text/x-python",
   "name": "python",
   "nbconvert_exporter": "python",
   "pygments_lexer": "ipython3",
   "version": "3.8.3"
  }
 },
 "nbformat": 4,
 "nbformat_minor": 5
}
